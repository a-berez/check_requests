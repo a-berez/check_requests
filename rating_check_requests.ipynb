{
 "cells": [
  {
   "cell_type": "code",
   "execution_count": 1,
   "metadata": {},
   "outputs": [],
   "source": [
    "import pandas as pd\n",
    "import sys\n",
    "import ast\n",
    "\n",
    "import requests\n",
    "import json"
   ]
  },
  {
   "cell_type": "code",
   "execution_count": 2,
   "metadata": {},
   "outputs": [],
   "source": [
    "token = 'ваш_токен'"
   ]
  },
  {
   "cell_type": "code",
   "execution_count": 3,
   "metadata": {},
   "outputs": [],
   "source": [
    "url_base = 'https://api.rating.chgk.net/tournaments/'\n",
    "# 'https://api.rating.chgk.net/tournaments/8938/requests?page=1&itemsPerPage=30&pagination=false'"
   ]
  },
  {
   "cell_type": "code",
   "execution_count": 4,
   "metadata": {},
   "outputs": [
    {
     "data": {
      "text/plain": [
       "<Response [200]>"
      ]
     },
     "execution_count": 4,
     "metadata": {},
     "output_type": "execute_result"
    }
   ],
   "source": [
    "# Проверка работы\n",
    "\n",
    "r = requests.get(url='https://api.rating.chgk.net/tournaments/8938/requests?page=1&itemsPerPage=30&pagination=false')\n",
    "r"
   ]
  },
  {
   "cell_type": "code",
   "execution_count": null,
   "metadata": {},
   "outputs": [],
   "source": [
    "id_list = ['8938', '8939', '8940', '8941']"
   ]
  },
  {
   "cell_type": "code",
   "execution_count": 65,
   "metadata": {},
   "outputs": [
    {
     "name": "stdout",
     "output_type": "stream",
     "text": [
      "Новых заявок нет\n"
     ]
    }
   ],
   "source": [
    "## Опрос турниров\n",
    "# Список опрашиваемых турниров\n",
    "\n",
    "# Функция запроса количества заявок\n",
    "def check_requests(id_list):\n",
    "    req_numbers = {}\n",
    "    url_base = 'https://api.rating.chgk.net/tournaments/'\n",
    "\n",
    "    for id in id_list:\n",
    "        r = requests.get(url=url_base+id+'/requests?page=1&itemsPerPage=100&pagination=false')\n",
    "        if r.status_code == 200:\n",
    "                if r.json() != []:\n",
    "                    req_id = r.json()\n",
    "                    req_numbers[id] = len(req_id)\n",
    "                else:\n",
    "                    req_numbers[id] = 'n/a'\n",
    "        else:\n",
    "            error = r.status_code\n",
    "            return error\n",
    "    return req_numbers\n",
    "\n",
    "# Количество заявок в данный момент\n",
    "req_numbers_new = check_requests(id_list)\n",
    "\n",
    "# Прошлое количество заявок\n",
    "with open('req_numbers_old.txt', 'r') as file_old:\n",
    "    f = file_old.read()\n",
    "\n",
    "# Превращение в словарь\n",
    "req_numbers_old = ast.literal_eval(f)\n",
    "\n",
    "# Сравнение количества старых и новых заявок\n",
    "if req_numbers_old == req_numbers_new:\n",
    "    print('Новых заявок нет')\n",
    "else:\n",
    "    diff = []\n",
    "    for id in req_numbers_new:\n",
    "        if req_numbers_new[id] != req_numbers_old[id]:\n",
    "            diff.append(id)\n",
    "    for id_diff in diff:\n",
    "        print(f'Проверить https://rating.chgk.info/tournament/{id_diff}/requests')"
   ]
  },
  {
   "cell_type": "code",
   "execution_count": 58,
   "metadata": {},
   "outputs": [],
   "source": [
    "# Сохранение текущего количества заявок в файл\n",
    "req_numbers_old_file = req_numbers_new\n",
    "with open('req_numbers_old.txt', 'w') as outfile:\n",
    "    outfile.write(str(req_numbers_old_file))"
   ]
  }
 ],
 "metadata": {
  "kernelspec": {
   "display_name": "Python 3",
   "language": "python",
   "name": "python3"
  },
  "language_info": {
   "codemirror_mode": {
    "name": "ipython",
    "version": 3
   },
   "file_extension": ".py",
   "mimetype": "text/x-python",
   "name": "python",
   "nbconvert_exporter": "python",
   "pygments_lexer": "ipython3",
   "version": "3.10.6"
  },
  "orig_nbformat": 4,
  "vscode": {
   "interpreter": {
    "hash": "afb734500600fd355917ca529030176ea0ca205570884b88f2f6f7d791fd3fbe"
   }
  }
 },
 "nbformat": 4,
 "nbformat_minor": 2
}
